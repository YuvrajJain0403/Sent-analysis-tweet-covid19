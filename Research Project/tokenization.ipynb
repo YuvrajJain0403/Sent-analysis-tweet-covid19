{
 "cells": [
  {
   "cell_type": "code",
   "execution_count": 1,
   "metadata": {},
   "outputs": [],
   "source": [
    "# Tokenization of paragraphs/sentences\n",
    "import nltk"
   ]
  },
  {
   "cell_type": "code",
   "execution_count": 3,
   "metadata": {},
   "outputs": [],
   "source": [
    "paragraph = \"This paper describes a weakly supervised system for sentiment analysis in the movie review domain. The objective is to classify a movie review into a polarity class, positive or negative, based on those sentences bearing opinion on the movie alone, leaving out other irrelevant text. Wikipedia incorporates the world knowledge of movie-specific features in the system which is used to obtain an extractive summary of the review, consisting of the reviewer’s opinions about the specific aspects of the movie. This filters out the concepts which are irrelevant or objective with respect to the given movie. The proposed system, WikiSent, does not require any labeled data for training. It achieves a better or comparable accuracy to the existing semi-supervised and unsupervised systems in the domain, on the same dataset. We also perform a general movie review trend analysis using WikiSent.\""
   ]
  },
  {
   "cell_type": "code",
   "execution_count": 4,
   "metadata": {},
   "outputs": [
    {
     "data": {
      "text/plain": [
       "'This paper describes a weakly supervised system for sentiment analysis in the movie review domain. The objective is to classify a movie review into a polarity class, positive or negative, based on those sentences bearing opinion on the movie alone, leaving out other irrelevant text. Wikipedia incorporates the world knowledge of movie-specific features in the system which is used to obtain an extractive summary of the review, consisting of the reviewer’s opinions about the specific aspects of the movie. This filters out the concepts which are irrelevant or objective with respect to the given movie. The proposed system, WikiSent, does not require any labeled data for training. It achieves a better or comparable accuracy to the existing semi-supervised and unsupervised systems in the domain, on the same dataset. We also perform a general movie review trend analysis using WikiSent.'"
      ]
     },
     "execution_count": 4,
     "metadata": {},
     "output_type": "execute_result"
    }
   ],
   "source": [
    "paragraph"
   ]
  },
  {
   "cell_type": "code",
   "execution_count": 5,
   "metadata": {},
   "outputs": [
    {
     "name": "stdout",
     "output_type": "stream",
     "text": [
      "showing info https://raw.githubusercontent.com/nltk/nltk_data/gh-pages/index.xml\n"
     ]
    },
    {
     "data": {
      "text/plain": [
       "True"
      ]
     },
     "execution_count": 5,
     "metadata": {},
     "output_type": "execute_result"
    }
   ],
   "source": [
    "nltk.download()"
   ]
  },
  {
   "cell_type": "code",
   "execution_count": 6,
   "metadata": {},
   "outputs": [],
   "source": [
    "# Tokenizing sentences\n",
    "sentences = nltk.sent_tokenize(paragraph)"
   ]
  },
  {
   "cell_type": "code",
   "execution_count": 7,
   "metadata": {},
   "outputs": [
    {
     "data": {
      "text/plain": [
       "['This paper describes a weakly supervised system for sentiment analysis in the movie review domain.',\n",
       " 'The objective is to classify a movie review into a polarity class, positive or negative, based on those sentences bearing opinion on the movie alone, leaving out other irrelevant text.',\n",
       " 'Wikipedia incorporates the world knowledge of movie-specific features in the system which is used to obtain an extractive summary of the review, consisting of the reviewer’s opinions about the specific aspects of the movie.',\n",
       " 'This filters out the concepts which are irrelevant or objective with respect to the given movie.',\n",
       " 'The proposed system, WikiSent, does not require any labeled data for training.',\n",
       " 'It achieves a better or comparable accuracy to the existing semi-supervised and unsupervised systems in the domain, on the same dataset.',\n",
       " 'We also perform a general movie review trend analysis using WikiSent.']"
      ]
     },
     "execution_count": 7,
     "metadata": {},
     "output_type": "execute_result"
    }
   ],
   "source": [
    "sentences"
   ]
  },
  {
   "cell_type": "code",
   "execution_count": 8,
   "metadata": {},
   "outputs": [
    {
     "data": {
      "text/plain": [
       "7"
      ]
     },
     "execution_count": 8,
     "metadata": {},
     "output_type": "execute_result"
    }
   ],
   "source": [
    "len(sentences)"
   ]
  },
  {
   "cell_type": "code",
   "execution_count": 9,
   "metadata": {},
   "outputs": [],
   "source": [
    "# Tokenizing words\n",
    "words = nltk.word_tokenize(paragraph)"
   ]
  },
  {
   "cell_type": "code",
   "execution_count": 10,
   "metadata": {},
   "outputs": [
    {
     "data": {
      "text/plain": [
       "['This',\n",
       " 'paper',\n",
       " 'describes',\n",
       " 'a',\n",
       " 'weakly',\n",
       " 'supervised',\n",
       " 'system',\n",
       " 'for',\n",
       " 'sentiment',\n",
       " 'analysis',\n",
       " 'in',\n",
       " 'the',\n",
       " 'movie',\n",
       " 'review',\n",
       " 'domain',\n",
       " '.',\n",
       " 'The',\n",
       " 'objective',\n",
       " 'is',\n",
       " 'to',\n",
       " 'classify',\n",
       " 'a',\n",
       " 'movie',\n",
       " 'review',\n",
       " 'into',\n",
       " 'a',\n",
       " 'polarity',\n",
       " 'class',\n",
       " ',',\n",
       " 'positive',\n",
       " 'or',\n",
       " 'negative',\n",
       " ',',\n",
       " 'based',\n",
       " 'on',\n",
       " 'those',\n",
       " 'sentences',\n",
       " 'bearing',\n",
       " 'opinion',\n",
       " 'on',\n",
       " 'the',\n",
       " 'movie',\n",
       " 'alone',\n",
       " ',',\n",
       " 'leaving',\n",
       " 'out',\n",
       " 'other',\n",
       " 'irrelevant',\n",
       " 'text',\n",
       " '.',\n",
       " 'Wikipedia',\n",
       " 'incorporates',\n",
       " 'the',\n",
       " 'world',\n",
       " 'knowledge',\n",
       " 'of',\n",
       " 'movie-specific',\n",
       " 'features',\n",
       " 'in',\n",
       " 'the',\n",
       " 'system',\n",
       " 'which',\n",
       " 'is',\n",
       " 'used',\n",
       " 'to',\n",
       " 'obtain',\n",
       " 'an',\n",
       " 'extractive',\n",
       " 'summary',\n",
       " 'of',\n",
       " 'the',\n",
       " 'review',\n",
       " ',',\n",
       " 'consisting',\n",
       " 'of',\n",
       " 'the',\n",
       " 'reviewer',\n",
       " '’',\n",
       " 's',\n",
       " 'opinions',\n",
       " 'about',\n",
       " 'the',\n",
       " 'specific',\n",
       " 'aspects',\n",
       " 'of',\n",
       " 'the',\n",
       " 'movie',\n",
       " '.',\n",
       " 'This',\n",
       " 'filters',\n",
       " 'out',\n",
       " 'the',\n",
       " 'concepts',\n",
       " 'which',\n",
       " 'are',\n",
       " 'irrelevant',\n",
       " 'or',\n",
       " 'objective',\n",
       " 'with',\n",
       " 'respect',\n",
       " 'to',\n",
       " 'the',\n",
       " 'given',\n",
       " 'movie',\n",
       " '.',\n",
       " 'The',\n",
       " 'proposed',\n",
       " 'system',\n",
       " ',',\n",
       " 'WikiSent',\n",
       " ',',\n",
       " 'does',\n",
       " 'not',\n",
       " 'require',\n",
       " 'any',\n",
       " 'labeled',\n",
       " 'data',\n",
       " 'for',\n",
       " 'training',\n",
       " '.',\n",
       " 'It',\n",
       " 'achieves',\n",
       " 'a',\n",
       " 'better',\n",
       " 'or',\n",
       " 'comparable',\n",
       " 'accuracy',\n",
       " 'to',\n",
       " 'the',\n",
       " 'existing',\n",
       " 'semi-supervised',\n",
       " 'and',\n",
       " 'unsupervised',\n",
       " 'systems',\n",
       " 'in',\n",
       " 'the',\n",
       " 'domain',\n",
       " ',',\n",
       " 'on',\n",
       " 'the',\n",
       " 'same',\n",
       " 'dataset',\n",
       " '.',\n",
       " 'We',\n",
       " 'also',\n",
       " 'perform',\n",
       " 'a',\n",
       " 'general',\n",
       " 'movie',\n",
       " 'review',\n",
       " 'trend',\n",
       " 'analysis',\n",
       " 'using',\n",
       " 'WikiSent',\n",
       " '.']"
      ]
     },
     "execution_count": 10,
     "metadata": {},
     "output_type": "execute_result"
    }
   ],
   "source": [
    "words"
   ]
  },
  {
   "cell_type": "code",
   "execution_count": 11,
   "metadata": {},
   "outputs": [
    {
     "data": {
      "text/plain": [
       "155"
      ]
     },
     "execution_count": 11,
     "metadata": {},
     "output_type": "execute_result"
    }
   ],
   "source": [
    "len(words)"
   ]
  },
  {
   "cell_type": "code",
   "execution_count": null,
   "metadata": {},
   "outputs": [],
   "source": []
  }
 ],
 "metadata": {
  "kernelspec": {
   "display_name": "Python 3",
   "language": "python",
   "name": "python3"
  },
  "language_info": {
   "codemirror_mode": {
    "name": "ipython",
    "version": 3
   },
   "file_extension": ".py",
   "mimetype": "text/x-python",
   "name": "python",
   "nbconvert_exporter": "python",
   "pygments_lexer": "ipython3",
   "version": "3.8.3"
  }
 },
 "nbformat": 4,
 "nbformat_minor": 4
}
