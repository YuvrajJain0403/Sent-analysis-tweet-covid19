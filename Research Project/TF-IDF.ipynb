{
 "cells": [
  {
   "cell_type": "code",
   "execution_count": 1,
   "metadata": {},
   "outputs": [],
   "source": [
    "import nltk"
   ]
  },
  {
   "cell_type": "code",
   "execution_count": 2,
   "metadata": {},
   "outputs": [],
   "source": [
    "import re\n",
    "from nltk.corpus import stopwords\n",
    "from nltk.stem.porter import PorterStemmer\n",
    "from nltk.stem import WordNetLemmatizer"
   ]
  },
  {
   "cell_type": "code",
   "execution_count": 3,
   "metadata": {},
   "outputs": [],
   "source": [
    "paragraph = \"This paper describes a weakly supervised system for sentiment analysis in the movie review domain. The objective is to classify a movie review into a polarity class, positive or negative, based on those sentences bearing opinion on the movie alone, leaving out other irrelevant text. Wikipedia incorporates the world knowledge of movie-specific features in the system which is used to obtain an extractive summary of the review, consisting of the reviewer’s opinions about the specific aspects of the movie. This filters out the concepts which are irrelevant or objective with respect to the given movie. The proposed system, WikiSent, does not require any labeled data for training. It achieves a better or comparable accuracy to the existing semi-supervised and unsupervised systems in the domain, on the same dataset. We also perform a general movie review trend analysis using WikiSent.\""
   ]
  },
  {
   "cell_type": "code",
   "execution_count": 4,
   "metadata": {},
   "outputs": [],
   "source": [
    "ps = PorterStemmer()\n",
    "wordnet=WordNetLemmatizer()\n",
    "sentences = nltk.sent_tokenize(paragraph)\n",
    "corpus = []"
   ]
  },
  {
   "cell_type": "code",
   "execution_count": 5,
   "metadata": {},
   "outputs": [],
   "source": [
    "for i in range(len(sentences)):\n",
    "    review = re.sub('[^a-zA-Z]', ' ', sentences[i])\n",
    "    review = review.lower()\n",
    "    review = review.split()\n",
    "    review = [wordnet.lemmatize(word) for word in review if not word in set(stopwords.words('english'))]\n",
    "    review = ' '.join(review)\n",
    "    corpus.append(review)"
   ]
  },
  {
   "cell_type": "code",
   "execution_count": 6,
   "metadata": {},
   "outputs": [
    {
     "data": {
      "text/plain": [
       "['paper describes weakly supervised system sentiment analysis movie review domain',\n",
       " 'objective classify movie review polarity class positive negative based sentence bearing opinion movie alone leaving irrelevant text',\n",
       " 'wikipedia incorporates world knowledge movie specific feature system used obtain extractive summary review consisting reviewer opinion specific aspect movie',\n",
       " 'filter concept irrelevant objective respect given movie',\n",
       " 'proposed system wikisent require labeled data training',\n",
       " 'achieves better comparable accuracy existing semi supervised unsupervised system domain dataset',\n",
       " 'also perform general movie review trend analysis using wikisent']"
      ]
     },
     "execution_count": 6,
     "metadata": {},
     "output_type": "execute_result"
    }
   ],
   "source": [
    "corpus"
   ]
  },
  {
   "cell_type": "code",
   "execution_count": 7,
   "metadata": {},
   "outputs": [],
   "source": [
    "# Creating the TF-IDF model\n",
    "from sklearn.feature_extraction.text import TfidfVectorizer\n",
    "cv = TfidfVectorizer()\n",
    "X = cv.fit_transform(corpus).toarray()"
   ]
  },
  {
   "cell_type": "code",
   "execution_count": 8,
   "metadata": {},
   "outputs": [
    {
     "data": {
      "text/plain": [
       "array([[0.        , 0.        , 0.        , 0.        , 0.31114743,\n",
       "        0.        , 0.        , 0.        , 0.        , 0.        ,\n",
       "        0.        , 0.        , 0.        , 0.        , 0.        ,\n",
       "        0.        , 0.37483764, 0.31114743, 0.        , 0.        ,\n",
       "        0.        , 0.        , 0.        , 0.        , 0.        ,\n",
       "        0.        , 0.        , 0.        , 0.        , 0.2022683 ,\n",
       "        0.        , 0.        , 0.        , 0.        , 0.37483764,\n",
       "        0.        , 0.        , 0.        , 0.        , 0.        ,\n",
       "        0.        , 0.23090726, 0.        , 0.        , 0.        ,\n",
       "        0.37483764, 0.        , 0.        , 0.31114743, 0.23090726,\n",
       "        0.        , 0.        , 0.        , 0.        , 0.        ,\n",
       "        0.        , 0.37483764, 0.        , 0.        , 0.        ],\n",
       "       [0.        , 0.        , 0.26161031, 0.        , 0.        ,\n",
       "        0.        , 0.26161031, 0.26161031, 0.        , 0.26161031,\n",
       "        0.26161031, 0.        , 0.        , 0.        , 0.        ,\n",
       "        0.        , 0.        , 0.        , 0.        , 0.        ,\n",
       "        0.        , 0.        , 0.        , 0.        , 0.        ,\n",
       "        0.21715902, 0.        , 0.        , 0.26161031, 0.2823381 ,\n",
       "        0.26161031, 0.21715902, 0.        , 0.21715902, 0.        ,\n",
       "        0.        , 0.26161031, 0.26161031, 0.        , 0.        ,\n",
       "        0.        , 0.16115703, 0.        , 0.        , 0.26161031,\n",
       "        0.        , 0.        , 0.        , 0.        , 0.        ,\n",
       "        0.26161031, 0.        , 0.        , 0.        , 0.        ,\n",
       "        0.        , 0.        , 0.        , 0.        , 0.        ],\n",
       "       [0.        , 0.        , 0.        , 0.        , 0.        ,\n",
       "        0.23179006, 0.        , 0.        , 0.        , 0.        ,\n",
       "        0.        , 0.        , 0.        , 0.23179006, 0.        ,\n",
       "        0.        , 0.        , 0.        , 0.        , 0.23179006,\n",
       "        0.23179006, 0.        , 0.        , 0.        , 0.23179006,\n",
       "        0.        , 0.23179006, 0.        , 0.        , 0.25015514,\n",
       "        0.        , 0.        , 0.23179006, 0.19240566, 0.        ,\n",
       "        0.        , 0.        , 0.        , 0.        , 0.        ,\n",
       "        0.        , 0.14278717, 0.23179006, 0.        , 0.        ,\n",
       "        0.        , 0.46358012, 0.23179006, 0.        , 0.14278717,\n",
       "        0.        , 0.        , 0.        , 0.        , 0.23179006,\n",
       "        0.        , 0.        , 0.23179006, 0.        , 0.23179006],\n",
       "       [0.        , 0.        , 0.        , 0.        , 0.        ,\n",
       "        0.        , 0.        , 0.        , 0.        , 0.        ,\n",
       "        0.        , 0.        , 0.41998755, 0.        , 0.        ,\n",
       "        0.        , 0.        , 0.        , 0.        , 0.        ,\n",
       "        0.        , 0.41998755, 0.        , 0.41998755, 0.        ,\n",
       "        0.34862574, 0.        , 0.        , 0.        , 0.22663191,\n",
       "        0.        , 0.34862574, 0.        , 0.        , 0.        ,\n",
       "        0.        , 0.        , 0.        , 0.        , 0.        ,\n",
       "        0.41998755, 0.        , 0.        , 0.        , 0.        ,\n",
       "        0.        , 0.        , 0.        , 0.        , 0.        ,\n",
       "        0.        , 0.        , 0.        , 0.        , 0.        ,\n",
       "        0.        , 0.        , 0.        , 0.        , 0.        ],\n",
       "       [0.        , 0.        , 0.        , 0.        , 0.        ,\n",
       "        0.        , 0.        , 0.        , 0.        , 0.        ,\n",
       "        0.        , 0.        , 0.        , 0.        , 0.40593689,\n",
       "        0.        , 0.        , 0.        , 0.        , 0.        ,\n",
       "        0.        , 0.        , 0.        , 0.        , 0.        ,\n",
       "        0.        , 0.        , 0.40593689, 0.        , 0.        ,\n",
       "        0.        , 0.        , 0.        , 0.        , 0.        ,\n",
       "        0.        , 0.        , 0.        , 0.40593689, 0.40593689,\n",
       "        0.        , 0.        , 0.        , 0.        , 0.        ,\n",
       "        0.        , 0.        , 0.        , 0.        , 0.250065  ,\n",
       "        0.        , 0.40593689, 0.        , 0.        , 0.        ,\n",
       "        0.        , 0.        , 0.        , 0.33696248, 0.        ],\n",
       "       [0.32013214, 0.32013214, 0.        , 0.        , 0.        ,\n",
       "        0.        , 0.        , 0.        , 0.32013214, 0.        ,\n",
       "        0.        , 0.32013214, 0.        , 0.        , 0.        ,\n",
       "        0.32013214, 0.        , 0.26573717, 0.32013214, 0.        ,\n",
       "        0.        , 0.        , 0.        , 0.        , 0.        ,\n",
       "        0.        , 0.        , 0.        , 0.        , 0.        ,\n",
       "        0.        , 0.        , 0.        , 0.        , 0.        ,\n",
       "        0.        , 0.        , 0.        , 0.        , 0.        ,\n",
       "        0.        , 0.        , 0.        , 0.32013214, 0.        ,\n",
       "        0.        , 0.        , 0.        , 0.26573717, 0.19720761,\n",
       "        0.        , 0.        , 0.        , 0.32013214, 0.        ,\n",
       "        0.        , 0.        , 0.        , 0.        , 0.        ],\n",
       "       [0.        , 0.        , 0.        , 0.37665518, 0.31265614,\n",
       "        0.        , 0.        , 0.        , 0.        , 0.        ,\n",
       "        0.        , 0.        , 0.        , 0.        , 0.        ,\n",
       "        0.        , 0.        , 0.        , 0.        , 0.        ,\n",
       "        0.        , 0.        , 0.37665518, 0.        , 0.        ,\n",
       "        0.        , 0.        , 0.        , 0.        , 0.20324907,\n",
       "        0.        , 0.        , 0.        , 0.        , 0.        ,\n",
       "        0.37665518, 0.        , 0.        , 0.        , 0.        ,\n",
       "        0.        , 0.2320269 , 0.        , 0.        , 0.        ,\n",
       "        0.        , 0.        , 0.        , 0.        , 0.        ,\n",
       "        0.        , 0.        , 0.37665518, 0.        , 0.        ,\n",
       "        0.37665518, 0.        , 0.        , 0.31265614, 0.        ]])"
      ]
     },
     "execution_count": 8,
     "metadata": {},
     "output_type": "execute_result"
    }
   ],
   "source": [
    "X"
   ]
  },
  {
   "cell_type": "code",
   "execution_count": null,
   "metadata": {},
   "outputs": [],
   "source": []
  }
 ],
 "metadata": {
  "kernelspec": {
   "display_name": "Python 3",
   "language": "python",
   "name": "python3"
  },
  "language_info": {
   "codemirror_mode": {
    "name": "ipython",
    "version": 3
   },
   "file_extension": ".py",
   "mimetype": "text/x-python",
   "name": "python",
   "nbconvert_exporter": "python",
   "pygments_lexer": "ipython3",
   "version": "3.8.3"
  }
 },
 "nbformat": 4,
 "nbformat_minor": 4
}
